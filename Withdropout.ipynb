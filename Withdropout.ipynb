{
  "nbformat": 4,
  "nbformat_minor": 0,
  "metadata": {
    "colab": {
      "name": "Untitled14.ipynb",
      "provenance": [],
      "collapsed_sections": [],
      "authorship_tag": "ABX9TyMP1kom1Gi1JrMHhnAuClEf",
      "include_colab_link": true
    },
    "kernelspec": {
      "name": "python3",
      "display_name": "Python 3"
    }
  },
  "cells": [
    {
      "cell_type": "markdown",
      "metadata": {
        "id": "view-in-github",
        "colab_type": "text"
      },
      "source": [
        "<a href=\"https://colab.research.google.com/github/laredein/MyPyTorchTest/blob/master/Withdropout.ipynb\" target=\"_parent\"><img src=\"https://colab.research.google.com/assets/colab-badge.svg\" alt=\"Open In Colab\"/></a>"
      ]
    },
    {
      "cell_type": "code",
      "metadata": {
        "id": "7qekDtZKGXyJ",
        "colab_type": "code",
        "colab": {
          "base_uri": "https://localhost:8080/",
          "height": 212
        },
        "outputId": "efce5209-9c39-49c0-9ba9-ee01bceab99f"
      },
      "source": [
        "\n",
        "! git clone https://github.com/laredein/MyPyTorch\n",
        "import sys\n",
        "sys.path.append('/content/MyPyTorch')\n",
        "import layerslib\n",
        "import optimizer\n",
        "import model\n",
        "\n",
        "import keras\n",
        "import torch\n",
        "import tensorflow as tf\n",
        "import torch.nn as nn\n",
        "import torch.optim as optim\n",
        "from keras.layers import Activation,Dense\n",
        "import matplotlib.pyplot as plt\n",
        "import pandas as pd\n",
        "import numpy as np\n",
        "import math\n",
        "from sklearn.metrics import mean_squared_error\n",
        "from sklearn.preprocessing import StandardScaler\n",
        "from sklearn.preprocessing import LabelEncoder,OneHotEncoder\n",
        "from sklearn.model_selection import train_test_split\n",
        "from sklearn.metrics import accuracy_score\n",
        "\n",
        "\n",
        "x=pd.read_csv(\"/content/MyPyTorch/full.csv\")\n",
        "\n",
        "\n",
        "x=x.drop(columns=\"Name\")\n",
        "x=x.drop(columns=\"Ticket\")\n",
        "x=x.drop(columns=\"Cabin\")\n",
        "x=x.drop(columns=\"Embarked\")\n",
        "x=x.drop(columns=\"Name_wiki\")\n",
        "x=x.drop(columns=\"Boarded\")\n",
        "x=x.drop(columns=\"Destination\")\n",
        "x=x.drop(columns=\"Lifeboat\")\n",
        "x=x.drop(columns=\"Body\")\n",
        "x=x.drop(columns=\"Class\")\n",
        "x=x.drop(columns=\"WikiId\")\n",
        "x=x.drop(columns=\"PassengerId\")\n",
        "x=x.drop(columns=\"Hometown\")\n",
        "x.head()"
      ],
      "execution_count": 16,
      "outputs": [
        {
          "output_type": "stream",
          "text": [
            "fatal: destination path 'MyPyTorch' already exists and is not an empty directory.\n"
          ],
          "name": "stdout"
        },
        {
          "output_type": "execute_result",
          "data": {
            "text/html": [
              "<div>\n",
              "<style scoped>\n",
              "    .dataframe tbody tr th:only-of-type {\n",
              "        vertical-align: middle;\n",
              "    }\n",
              "\n",
              "    .dataframe tbody tr th {\n",
              "        vertical-align: top;\n",
              "    }\n",
              "\n",
              "    .dataframe thead th {\n",
              "        text-align: right;\n",
              "    }\n",
              "</style>\n",
              "<table border=\"1\" class=\"dataframe\">\n",
              "  <thead>\n",
              "    <tr style=\"text-align: right;\">\n",
              "      <th></th>\n",
              "      <th>Survived</th>\n",
              "      <th>Pclass</th>\n",
              "      <th>Sex</th>\n",
              "      <th>Age</th>\n",
              "      <th>SibSp</th>\n",
              "      <th>Parch</th>\n",
              "      <th>Fare</th>\n",
              "      <th>Age_wiki</th>\n",
              "    </tr>\n",
              "  </thead>\n",
              "  <tbody>\n",
              "    <tr>\n",
              "      <th>0</th>\n",
              "      <td>0.0</td>\n",
              "      <td>3</td>\n",
              "      <td>male</td>\n",
              "      <td>22.0</td>\n",
              "      <td>1</td>\n",
              "      <td>0</td>\n",
              "      <td>7.2500</td>\n",
              "      <td>22.0</td>\n",
              "    </tr>\n",
              "    <tr>\n",
              "      <th>1</th>\n",
              "      <td>1.0</td>\n",
              "      <td>1</td>\n",
              "      <td>female</td>\n",
              "      <td>38.0</td>\n",
              "      <td>1</td>\n",
              "      <td>0</td>\n",
              "      <td>71.2833</td>\n",
              "      <td>35.0</td>\n",
              "    </tr>\n",
              "    <tr>\n",
              "      <th>2</th>\n",
              "      <td>1.0</td>\n",
              "      <td>3</td>\n",
              "      <td>female</td>\n",
              "      <td>26.0</td>\n",
              "      <td>0</td>\n",
              "      <td>0</td>\n",
              "      <td>7.9250</td>\n",
              "      <td>26.0</td>\n",
              "    </tr>\n",
              "    <tr>\n",
              "      <th>3</th>\n",
              "      <td>1.0</td>\n",
              "      <td>1</td>\n",
              "      <td>female</td>\n",
              "      <td>35.0</td>\n",
              "      <td>1</td>\n",
              "      <td>0</td>\n",
              "      <td>53.1000</td>\n",
              "      <td>35.0</td>\n",
              "    </tr>\n",
              "    <tr>\n",
              "      <th>4</th>\n",
              "      <td>0.0</td>\n",
              "      <td>3</td>\n",
              "      <td>male</td>\n",
              "      <td>35.0</td>\n",
              "      <td>0</td>\n",
              "      <td>0</td>\n",
              "      <td>8.0500</td>\n",
              "      <td>35.0</td>\n",
              "    </tr>\n",
              "  </tbody>\n",
              "</table>\n",
              "</div>"
            ],
            "text/plain": [
              "   Survived  Pclass     Sex   Age  SibSp  Parch     Fare  Age_wiki\n",
              "0       0.0       3    male  22.0      1      0   7.2500      22.0\n",
              "1       1.0       1  female  38.0      1      0  71.2833      35.0\n",
              "2       1.0       3  female  26.0      0      0   7.9250      26.0\n",
              "3       1.0       1  female  35.0      1      0  53.1000      35.0\n",
              "4       0.0       3    male  35.0      0      0   8.0500      35.0"
            ]
          },
          "metadata": {
            "tags": []
          },
          "execution_count": 16
        }
      ]
    },
    {
      "cell_type": "code",
      "metadata": {
        "id": "eV2vYcgmGYDL",
        "colab_type": "code",
        "colab": {
          "base_uri": "https://localhost:8080/",
          "height": 195
        },
        "outputId": "fd1aaa2e-a3da-4837-b87b-3f6ece71bac3"
      },
      "source": [
        "x.loc[pd.isna(x[\"Age\"]), :]\n",
        "x.dropna(subset=[\"Survived\"],inplace=True)\n",
        "x.loc[pd.notna(x[\"Age\"]),\"Age\"]=x[\"Age\"]\n",
        "x.loc[pd.isna(x[\"Age\"]),\"Age\"]=x[\"Age_wiki\"]\n",
        "x=x.drop(columns=\"Age_wiki\")\n",
        "c=x[\"Age\"].mean(skipna=True)\n",
        "x.loc[pd.isna(x[\"Age\"]),\"Age\"]=c\n",
        "x.head()"
      ],
      "execution_count": 17,
      "outputs": [
        {
          "output_type": "execute_result",
          "data": {
            "text/html": [
              "<div>\n",
              "<style scoped>\n",
              "    .dataframe tbody tr th:only-of-type {\n",
              "        vertical-align: middle;\n",
              "    }\n",
              "\n",
              "    .dataframe tbody tr th {\n",
              "        vertical-align: top;\n",
              "    }\n",
              "\n",
              "    .dataframe thead th {\n",
              "        text-align: right;\n",
              "    }\n",
              "</style>\n",
              "<table border=\"1\" class=\"dataframe\">\n",
              "  <thead>\n",
              "    <tr style=\"text-align: right;\">\n",
              "      <th></th>\n",
              "      <th>Survived</th>\n",
              "      <th>Pclass</th>\n",
              "      <th>Sex</th>\n",
              "      <th>Age</th>\n",
              "      <th>SibSp</th>\n",
              "      <th>Parch</th>\n",
              "      <th>Fare</th>\n",
              "    </tr>\n",
              "  </thead>\n",
              "  <tbody>\n",
              "    <tr>\n",
              "      <th>0</th>\n",
              "      <td>0.0</td>\n",
              "      <td>3</td>\n",
              "      <td>male</td>\n",
              "      <td>22.0</td>\n",
              "      <td>1</td>\n",
              "      <td>0</td>\n",
              "      <td>7.2500</td>\n",
              "    </tr>\n",
              "    <tr>\n",
              "      <th>1</th>\n",
              "      <td>1.0</td>\n",
              "      <td>1</td>\n",
              "      <td>female</td>\n",
              "      <td>38.0</td>\n",
              "      <td>1</td>\n",
              "      <td>0</td>\n",
              "      <td>71.2833</td>\n",
              "    </tr>\n",
              "    <tr>\n",
              "      <th>2</th>\n",
              "      <td>1.0</td>\n",
              "      <td>3</td>\n",
              "      <td>female</td>\n",
              "      <td>26.0</td>\n",
              "      <td>0</td>\n",
              "      <td>0</td>\n",
              "      <td>7.9250</td>\n",
              "    </tr>\n",
              "    <tr>\n",
              "      <th>3</th>\n",
              "      <td>1.0</td>\n",
              "      <td>1</td>\n",
              "      <td>female</td>\n",
              "      <td>35.0</td>\n",
              "      <td>1</td>\n",
              "      <td>0</td>\n",
              "      <td>53.1000</td>\n",
              "    </tr>\n",
              "    <tr>\n",
              "      <th>4</th>\n",
              "      <td>0.0</td>\n",
              "      <td>3</td>\n",
              "      <td>male</td>\n",
              "      <td>35.0</td>\n",
              "      <td>0</td>\n",
              "      <td>0</td>\n",
              "      <td>8.0500</td>\n",
              "    </tr>\n",
              "  </tbody>\n",
              "</table>\n",
              "</div>"
            ],
            "text/plain": [
              "   Survived  Pclass     Sex   Age  SibSp  Parch     Fare\n",
              "0       0.0       3    male  22.0      1      0   7.2500\n",
              "1       1.0       1  female  38.0      1      0  71.2833\n",
              "2       1.0       3  female  26.0      0      0   7.9250\n",
              "3       1.0       1  female  35.0      1      0  53.1000\n",
              "4       0.0       3    male  35.0      0      0   8.0500"
            ]
          },
          "metadata": {
            "tags": []
          },
          "execution_count": 17
        }
      ]
    },
    {
      "cell_type": "code",
      "metadata": {
        "id": "eIVCf3RVGYUS",
        "colab_type": "code",
        "colab": {
          "base_uri": "https://localhost:8080/",
          "height": 264
        },
        "outputId": "1c45f3c5-d8e5-4951-baf0-9f70d20dd858"
      },
      "source": [
        "labelenc=LabelEncoder()\n",
        "x[\"Survived\"]=labelenc.fit_transform(x[\"Survived\"])\n",
        "xtrain,xtest=train_test_split(x,test_size=0.7)\n",
        "xtrain.index=pd.RangeIndex(start=0,stop=len(xtrain),step=1)\n",
        "xtest.index=pd.RangeIndex(start=0,stop=len(xtest),step=1)\n",
        "one=xtrain.loc[xtrain[\"Survived\"]==1][\"Survived\"].sum()\n",
        "two=len(xtrain)-one\n",
        "plt.pie([one,two],labels=[\"survived\",\"not so lucky\"],autopct=\"%0.0f%%\")\n",
        "plt.title(\"Pclass distribution\")\n",
        "plt.show()"
      ],
      "execution_count": 18,
      "outputs": [
        {
          "output_type": "display_data",
          "data": {
            "image/png": "[encoded data removed]",
            "text/plain": [
              "<Figure size 432x288 with 1 Axes>"
            ]
          },
          "metadata": {
            "tags": []
          }
        }
      ]
    },
    {
      "cell_type": "code",
      "metadata": {
        "id": "B1iuuvUnQcx1",
        "colab_type": "code",
        "colab": {
          "base_uri": "https://localhost:8080/",
          "height": 195
        },
        "outputId": "4a4320d6-af77-4ede-9b6b-b583c4a8e308"
      },
      "source": [
        "c=len(xtrain)-one*2\n",
        "addarr=[]\n",
        "for i in range(len(xtrain)):\n",
        "    if xtrain.iloc[i][0]==1:\n",
        "        addarr.append(xtrain.iloc[i,:])\n",
        "addarr=pd.DataFrame(addarr,columns=[\"Survived\",\"Pclass\",\"Sex\",\"Age\",\"SibSp\",\"Parch\",\"Fare\"])\n",
        "addarr.index=pd.RangeIndex(start=0,stop=len(addarr),step=1)\n",
        "for i in range(c):\n",
        "  xtrain=xtrain.append(addarr.iloc[i%len(addarr),:])\n",
        "x.head()"
      ],
      "execution_count": 19,
      "outputs": [
        {
          "output_type": "execute_result",
          "data": {
            "text/html": [
              "<div>\n",
              "<style scoped>\n",
              "    .dataframe tbody tr th:only-of-type {\n",
              "        vertical-align: middle;\n",
              "    }\n",
              "\n",
              "    .dataframe tbody tr th {\n",
              "        vertical-align: top;\n",
              "    }\n",
              "\n",
              "    .dataframe thead th {\n",
              "        text-align: right;\n",
              "    }\n",
              "</style>\n",
              "<table border=\"1\" class=\"dataframe\">\n",
              "  <thead>\n",
              "    <tr style=\"text-align: right;\">\n",
              "      <th></th>\n",
              "      <th>Survived</th>\n",
              "      <th>Pclass</th>\n",
              "      <th>Sex</th>\n",
              "      <th>Age</th>\n",
              "      <th>SibSp</th>\n",
              "      <th>Parch</th>\n",
              "      <th>Fare</th>\n",
              "    </tr>\n",
              "  </thead>\n",
              "  <tbody>\n",
              "    <tr>\n",
              "      <th>0</th>\n",
              "      <td>0</td>\n",
              "      <td>3</td>\n",
              "      <td>male</td>\n",
              "      <td>22.0</td>\n",
              "      <td>1</td>\n",
              "      <td>0</td>\n",
              "      <td>7.2500</td>\n",
              "    </tr>\n",
              "    <tr>\n",
              "      <th>1</th>\n",
              "      <td>1</td>\n",
              "      <td>1</td>\n",
              "      <td>female</td>\n",
              "      <td>38.0</td>\n",
              "      <td>1</td>\n",
              "      <td>0</td>\n",
              "      <td>71.2833</td>\n",
              "    </tr>\n",
              "    <tr>\n",
              "      <th>2</th>\n",
              "      <td>1</td>\n",
              "      <td>3</td>\n",
              "      <td>female</td>\n",
              "      <td>26.0</td>\n",
              "      <td>0</td>\n",
              "      <td>0</td>\n",
              "      <td>7.9250</td>\n",
              "    </tr>\n",
              "    <tr>\n",
              "      <th>3</th>\n",
              "      <td>1</td>\n",
              "      <td>1</td>\n",
              "      <td>female</td>\n",
              "      <td>35.0</td>\n",
              "      <td>1</td>\n",
              "      <td>0</td>\n",
              "      <td>53.1000</td>\n",
              "    </tr>\n",
              "    <tr>\n",
              "      <th>4</th>\n",
              "      <td>0</td>\n",
              "      <td>3</td>\n",
              "      <td>male</td>\n",
              "      <td>35.0</td>\n",
              "      <td>0</td>\n",
              "      <td>0</td>\n",
              "      <td>8.0500</td>\n",
              "    </tr>\n",
              "  </tbody>\n",
              "</table>\n",
              "</div>"
            ],
            "text/plain": [
              "   Survived  Pclass     Sex   Age  SibSp  Parch     Fare\n",
              "0         0       3    male  22.0      1      0   7.2500\n",
              "1         1       1  female  38.0      1      0  71.2833\n",
              "2         1       3  female  26.0      0      0   7.9250\n",
              "3         1       1  female  35.0      1      0  53.1000\n",
              "4         0       3    male  35.0      0      0   8.0500"
            ]
          },
          "metadata": {
            "tags": []
          },
          "execution_count": 19
        }
      ]
    },
    {
      "cell_type": "code",
      "metadata": {
        "id": "TXYLoExjOXOT",
        "colab_type": "code",
        "colab": {
          "base_uri": "https://localhost:8080/",
          "height": 264
        },
        "outputId": "162c2f2a-0ac0-42dc-c253-f6a2b37260f9"
      },
      "source": [
        "one=xtrain.loc[xtrain[\"Survived\"]==1][\"Survived\"].sum()\n",
        "two=len(xtrain)-one\n",
        "plt.pie([one,two],labels=[\"survived\",\"not so lucky\"],autopct=\"%0.0f%%\")\n",
        "plt.title(\"Pclass distribution\")\n",
        "plt.show()"
      ],
      "execution_count": 20,
      "outputs": [
        {
          "output_type": "display_data",
          "data": {
            "image/png": "[encoded data removed]",
            "text/plain": [
              "<Figure size 432x288 with 1 Axes>"
            ]
          },
          "metadata": {
            "tags": []
          }
        }
      ]
    },
    {
      "cell_type": "code",
      "metadata": {
        "id": "ll2MRklAGsfA",
        "colab_type": "code",
        "colab": {
          "base_uri": "https://localhost:8080/",
          "height": 185
        },
        "outputId": "d15d434d-fd5f-4d80-f958-3d1e3d3cd83b"
      },
      "source": [
        "pd.set_option('mode.chained_assignment', None)\n",
        "sextoint=OneHotEncoder(sparse=False)\n",
        "xtrain['Sex']=sextoint.fit_transform(xtrain['Sex'].values.reshape(-1,1))\n",
        "xtest['Sex']=sextoint.fit_transform(xtest['Sex'].values.reshape(-1,1))\n",
        "ytrain=xtrain[\"Survived\"]\n",
        "xtrain=xtrain.drop(columns=\"Survived\")\n",
        "ytest=xtest[\"Survived\"]\n",
        "xtest=xtest.drop(columns=\"Survived\")\n",
        "ssc=StandardScaler()\n",
        "\n",
        "a=ssc.fit_transform(xtrain)\n",
        "b=ssc.fit_transform(xtest)\n",
        "c=np.array(ytrain)\n",
        "d=np.array(ytest)\n",
        "xtrain=b\n",
        "xtest=a\n",
        "ytrain=d\n",
        "ytest=c\n",
        "xtrain[:5]"
      ],
      "execution_count": 21,
      "outputs": [
        {
          "output_type": "execute_result",
          "data": {
            "text/plain": [
              "array([[ 0.81641339, -0.72760688, -0.43454012, -0.47684381, -0.47180123,\n",
              "        -0.5020512 ],\n",
              "       [-0.37387155, -0.72760688,  0.32311299,  0.39830483, -0.47180123,\n",
              "        -0.11837069],\n",
              "       [-1.5641565 , -0.72760688,  1.70066409, -0.47684381, -0.47180123,\n",
              "         0.4253519 ],\n",
              "       [-1.5641565 ,  1.37436854, -0.22790745, -0.47684381, -0.47180123,\n",
              "         0.99272602],\n",
              "       [ 0.81641339, -0.72760688, -0.02127479, -0.47684381, -0.47180123,\n",
              "        -0.5020512 ]])"
            ]
          },
          "metadata": {
            "tags": []
          },
          "execution_count": 21
        }
      ]
    },
    {
      "cell_type": "code",
      "metadata": {
        "id": "RKBEj8kdGsuK",
        "colab_type": "code",
        "colab": {
          "base_uri": "https://localhost:8080/",
          "height": 265
        },
        "outputId": "d6ac8508-c750-4d1b-d97b-8bc78b82dcf5"
      },
      "source": [
        "layer1=layerslib.Sigmoid(6,3,True)\n",
        "layer2=layerslib.Sigmoid(3,2,True)\n",
        "layer3=layerslib.Sigmoid(2,1,True)\n",
        "layer2.dropautset(0.2)\n",
        "\n",
        "layerarr=[layer1,layer2,layer3]\n",
        "opt=optimizer.SGD(1,0.2,layerarr)\n",
        "model=model.Seqential(layerslib.MSE(),opt)\n",
        "curloss=layerslib.MSE()\n",
        "msegraph=[]\n",
        "for i in range(300):\n",
        "    c=0\n",
        "    for j in range(len(xtrain)):\n",
        "        opt.zero_grad()\n",
        "        ourout=model.forward(xtrain[j])\n",
        "        curloss.loss(ourout,ytrain[j])\n",
        "        curloss.backward()\n",
        "        opt.step()\n",
        "        c=c+curloss.dif\n",
        "    msegraph.append(c/4)\n",
        "y=np.arange(0,len(msegraph))\n",
        "plt.plot(msegraph,y)\n",
        "plt.show()\n"
      ],
      "execution_count": 22,
      "outputs": [
        {
          "output_type": "display_data",
          "data": {
            "image/png": "[encoded data removed]",
            "text/plain": [
              "<Figure size 432x288 with 1 Axes>"
            ]
          },
          "metadata": {
            "tags": [],
            "needs_background": "light"
          }
        }
      ]
    },
    {
      "cell_type": "code",
      "metadata": {
        "id": "CSR6WvKaB0oH",
        "colab_type": "code",
        "colab": {
          "base_uri": "https://localhost:8080/",
          "height": 34
        },
        "outputId": "d2fcbb35-baab-4bde-f8a7-ae05374daf61"
      },
      "source": [
        "arr=[]\n",
        "for i in range(len(xtrain)):\n",
        "    arr.append(model.forward(xtrain[i])[1])\n",
        "arr=np.array(arr).round()\n",
        "print(accuracy_score(arr,ytrain))"
      ],
      "execution_count": 23,
      "outputs": [
        {
          "output_type": "stream",
          "text": [
            "0.8108974358974359\n"
          ],
          "name": "stdout"
        }
      ]
    }
  ]
}