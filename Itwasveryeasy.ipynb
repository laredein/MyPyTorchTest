{
  "nbformat": 4,
  "nbformat_minor": 0,
  "metadata": {
    "colab": {
      "name": "Untitled14.ipynb",
      "provenance": [],
      "collapsed_sections": [],
      "authorship_tag": "ABX9TyMOvyB8r1hvN90fIdmlnje9",
      "include_colab_link": true
    },
    "kernelspec": {
      "name": "python3",
      "display_name": "Python 3"
    }
  },
  "cells": [
    {
      "cell_type": "markdown",
      "metadata": {
        "id": "view-in-github",
        "colab_type": "text"
      },
      "source": [
        "<a href=\"https://colab.research.google.com/github/laredein/MyPyTorchTest/blob/master/Itwasveryeasy.ipynb\" target=\"_parent\"><img src=\"https://colab.research.google.com/assets/colab-badge.svg\" alt=\"Open In Colab\"/></a>"
      ]
    },
    {
      "cell_type": "code",
      "metadata": {
        "id": "7qekDtZKGXyJ",
        "colab_type": "code",
        "colab": {
          "base_uri": "https://localhost:8080/",
          "height": 212
        },
        "outputId": "db4a11f7-b40b-41e6-a678-885af8d968ae"
      },
      "source": [
        "\n",
        "! git clone https://github.com/laredein/MyPyTorch\n",
        "import sys\n",
        "sys.path.append('/content/MyPyTorch')\n",
        "import layerslib\n",
        "import optimizer\n",
        "import model\n",
        "\n",
        "import keras\n",
        "import torch\n",
        "import tensorflow as tf\n",
        "import torch.nn as nn\n",
        "import torch.optim as optim\n",
        "from keras.layers import Activation,Dense\n",
        "import matplotlib.pyplot as plt\n",
        "import pandas as pd\n",
        "import numpy as np\n",
        "import math\n",
        "from sklearn.metrics import mean_squared_error\n",
        "from sklearn.preprocessing import StandardScaler\n",
        "from sklearn.preprocessing import LabelEncoder,OneHotEncoder\n",
        "from sklearn.model_selection import train_test_split\n",
        "from sklearn.metrics import accuracy_score\n",
        "\n",
        "\n",
        "x=pd.read_csv(\"/content/MyPyTorch/full.csv\")\n",
        "\n",
        "\n",
        "x=x.drop(columns=\"Name\")\n",
        "x=x.drop(columns=\"Ticket\")\n",
        "x=x.drop(columns=\"Cabin\")\n",
        "x=x.drop(columns=\"Embarked\")\n",
        "x=x.drop(columns=\"Name_wiki\")\n",
        "x=x.drop(columns=\"Boarded\")\n",
        "x=x.drop(columns=\"Destination\")\n",
        "x=x.drop(columns=\"Lifeboat\")\n",
        "x=x.drop(columns=\"Body\")\n",
        "x=x.drop(columns=\"Class\")\n",
        "x=x.drop(columns=\"WikiId\")\n",
        "x=x.drop(columns=\"PassengerId\")\n",
        "x=x.drop(columns=\"Hometown\")\n",
        "x.head()"
      ],
      "execution_count": 44,
      "outputs": [
        {
          "output_type": "stream",
          "text": [
            "fatal: destination path 'MyPyTorch' already exists and is not an empty directory.\n"
          ],
          "name": "stdout"
        },
        {
          "output_type": "execute_result",
          "data": {
            "text/html": [
              "<div>\n",
              "<style scoped>\n",
              "    .dataframe tbody tr th:only-of-type {\n",
              "        vertical-align: middle;\n",
              "    }\n",
              "\n",
              "    .dataframe tbody tr th {\n",
              "        vertical-align: top;\n",
              "    }\n",
              "\n",
              "    .dataframe thead th {\n",
              "        text-align: right;\n",
              "    }\n",
              "</style>\n",
              "<table border=\"1\" class=\"dataframe\">\n",
              "  <thead>\n",
              "    <tr style=\"text-align: right;\">\n",
              "      <th></th>\n",
              "      <th>Survived</th>\n",
              "      <th>Pclass</th>\n",
              "      <th>Sex</th>\n",
              "      <th>Age</th>\n",
              "      <th>SibSp</th>\n",
              "      <th>Parch</th>\n",
              "      <th>Fare</th>\n",
              "      <th>Age_wiki</th>\n",
              "    </tr>\n",
              "  </thead>\n",
              "  <tbody>\n",
              "    <tr>\n",
              "      <th>0</th>\n",
              "      <td>0.0</td>\n",
              "      <td>3</td>\n",
              "      <td>male</td>\n",
              "      <td>22.0</td>\n",
              "      <td>1</td>\n",
              "      <td>0</td>\n",
              "      <td>7.2500</td>\n",
              "      <td>22.0</td>\n",
              "    </tr>\n",
              "    <tr>\n",
              "      <th>1</th>\n",
              "      <td>1.0</td>\n",
              "      <td>1</td>\n",
              "      <td>female</td>\n",
              "      <td>38.0</td>\n",
              "      <td>1</td>\n",
              "      <td>0</td>\n",
              "      <td>71.2833</td>\n",
              "      <td>35.0</td>\n",
              "    </tr>\n",
              "    <tr>\n",
              "      <th>2</th>\n",
              "      <td>1.0</td>\n",
              "      <td>3</td>\n",
              "      <td>female</td>\n",
              "      <td>26.0</td>\n",
              "      <td>0</td>\n",
              "      <td>0</td>\n",
              "      <td>7.9250</td>\n",
              "      <td>26.0</td>\n",
              "    </tr>\n",
              "    <tr>\n",
              "      <th>3</th>\n",
              "      <td>1.0</td>\n",
              "      <td>1</td>\n",
              "      <td>female</td>\n",
              "      <td>35.0</td>\n",
              "      <td>1</td>\n",
              "      <td>0</td>\n",
              "      <td>53.1000</td>\n",
              "      <td>35.0</td>\n",
              "    </tr>\n",
              "    <tr>\n",
              "      <th>4</th>\n",
              "      <td>0.0</td>\n",
              "      <td>3</td>\n",
              "      <td>male</td>\n",
              "      <td>35.0</td>\n",
              "      <td>0</td>\n",
              "      <td>0</td>\n",
              "      <td>8.0500</td>\n",
              "      <td>35.0</td>\n",
              "    </tr>\n",
              "  </tbody>\n",
              "</table>\n",
              "</div>"
            ],
            "text/plain": [
              "   Survived  Pclass     Sex   Age  SibSp  Parch     Fare  Age_wiki\n",
              "0       0.0       3    male  22.0      1      0   7.2500      22.0\n",
              "1       1.0       1  female  38.0      1      0  71.2833      35.0\n",
              "2       1.0       3  female  26.0      0      0   7.9250      26.0\n",
              "3       1.0       1  female  35.0      1      0  53.1000      35.0\n",
              "4       0.0       3    male  35.0      0      0   8.0500      35.0"
            ]
          },
          "metadata": {
            "tags": []
          },
          "execution_count": 44
        }
      ]
    },
    {
      "cell_type": "code",
      "metadata": {
        "id": "eV2vYcgmGYDL",
        "colab_type": "code",
        "colab": {
          "base_uri": "https://localhost:8080/",
          "height": 195
        },
        "outputId": "c9eb6f7e-09fb-4ea9-94cd-31b0592b9010"
      },
      "source": [
        "x.loc[pd.isna(x[\"Age\"]), :]\n",
        "x.dropna(subset=[\"Survived\"],inplace=True)\n",
        "x.loc[pd.notna(x[\"Age\"]),\"Age\"]=x[\"Age\"]\n",
        "x.loc[pd.isna(x[\"Age\"]),\"Age\"]=x[\"Age_wiki\"]\n",
        "x=x.drop(columns=\"Age_wiki\")\n",
        "c=x[\"Age\"].mean(skipna=True)\n",
        "x.loc[pd.isna(x[\"Age\"]),\"Age\"]=c\n",
        "x.head()"
      ],
      "execution_count": 45,
      "outputs": [
        {
          "output_type": "execute_result",
          "data": {
            "text/html": [
              "<div>\n",
              "<style scoped>\n",
              "    .dataframe tbody tr th:only-of-type {\n",
              "        vertical-align: middle;\n",
              "    }\n",
              "\n",
              "    .dataframe tbody tr th {\n",
              "        vertical-align: top;\n",
              "    }\n",
              "\n",
              "    .dataframe thead th {\n",
              "        text-align: right;\n",
              "    }\n",
              "</style>\n",
              "<table border=\"1\" class=\"dataframe\">\n",
              "  <thead>\n",
              "    <tr style=\"text-align: right;\">\n",
              "      <th></th>\n",
              "      <th>Survived</th>\n",
              "      <th>Pclass</th>\n",
              "      <th>Sex</th>\n",
              "      <th>Age</th>\n",
              "      <th>SibSp</th>\n",
              "      <th>Parch</th>\n",
              "      <th>Fare</th>\n",
              "    </tr>\n",
              "  </thead>\n",
              "  <tbody>\n",
              "    <tr>\n",
              "      <th>0</th>\n",
              "      <td>0.0</td>\n",
              "      <td>3</td>\n",
              "      <td>male</td>\n",
              "      <td>22.0</td>\n",
              "      <td>1</td>\n",
              "      <td>0</td>\n",
              "      <td>7.2500</td>\n",
              "    </tr>\n",
              "    <tr>\n",
              "      <th>1</th>\n",
              "      <td>1.0</td>\n",
              "      <td>1</td>\n",
              "      <td>female</td>\n",
              "      <td>38.0</td>\n",
              "      <td>1</td>\n",
              "      <td>0</td>\n",
              "      <td>71.2833</td>\n",
              "    </tr>\n",
              "    <tr>\n",
              "      <th>2</th>\n",
              "      <td>1.0</td>\n",
              "      <td>3</td>\n",
              "      <td>female</td>\n",
              "      <td>26.0</td>\n",
              "      <td>0</td>\n",
              "      <td>0</td>\n",
              "      <td>7.9250</td>\n",
              "    </tr>\n",
              "    <tr>\n",
              "      <th>3</th>\n",
              "      <td>1.0</td>\n",
              "      <td>1</td>\n",
              "      <td>female</td>\n",
              "      <td>35.0</td>\n",
              "      <td>1</td>\n",
              "      <td>0</td>\n",
              "      <td>53.1000</td>\n",
              "    </tr>\n",
              "    <tr>\n",
              "      <th>4</th>\n",
              "      <td>0.0</td>\n",
              "      <td>3</td>\n",
              "      <td>male</td>\n",
              "      <td>35.0</td>\n",
              "      <td>0</td>\n",
              "      <td>0</td>\n",
              "      <td>8.0500</td>\n",
              "    </tr>\n",
              "  </tbody>\n",
              "</table>\n",
              "</div>"
            ],
            "text/plain": [
              "   Survived  Pclass     Sex   Age  SibSp  Parch     Fare\n",
              "0       0.0       3    male  22.0      1      0   7.2500\n",
              "1       1.0       1  female  38.0      1      0  71.2833\n",
              "2       1.0       3  female  26.0      0      0   7.9250\n",
              "3       1.0       1  female  35.0      1      0  53.1000\n",
              "4       0.0       3    male  35.0      0      0   8.0500"
            ]
          },
          "metadata": {
            "tags": []
          },
          "execution_count": 45
        }
      ]
    },
    {
      "cell_type": "code",
      "metadata": {
        "id": "eIVCf3RVGYUS",
        "colab_type": "code",
        "colab": {
          "base_uri": "https://localhost:8080/",
          "height": 264
        },
        "outputId": "3684666f-edd7-42ef-e797-e090f75f0328"
      },
      "source": [
        "labelenc=LabelEncoder()\n",
        "x[\"Survived\"]=labelenc.fit_transform(x[\"Survived\"])\n",
        "xtrain,xtest=train_test_split(x,test_size=0.7)\n",
        "xtrain.index=pd.RangeIndex(start=0,stop=len(xtrain),step=1)\n",
        "xtest.index=pd.RangeIndex(start=0,stop=len(xtest),step=1)\n",
        "one=xtrain.loc[xtrain[\"Survived\"]==1][\"Survived\"].sum()\n",
        "two=len(xtrain)-one\n",
        "plt.pie([one,two],labels=[\"survived\",\"not so lucky\"],autopct=\"%0.0f%%\")\n",
        "plt.title(\"Pclass distribution\")\n",
        "plt.show()"
      ],
      "execution_count": 46,
      "outputs": [
        {
          "output_type": "display_data",
          "data": {
            "image/png": "[encoded data removed]",
            "text/plain": [
              "<Figure size 432x288 with 1 Axes>"
            ]
          },
          "metadata": {
            "tags": []
          }
        }
      ]
    },
    {
      "cell_type": "code",
      "metadata": {
        "id": "B1iuuvUnQcx1",
        "colab_type": "code",
        "colab": {
          "base_uri": "https://localhost:8080/",
          "height": 195
        },
        "outputId": "dc8747d1-4b26-4423-f079-980ac8436c49"
      },
      "source": [
        "c=len(xtrain)-one*2\n",
        "addarr=[]\n",
        "for i in range(len(xtrain)):\n",
        "    if xtrain.iloc[i][0]==1:\n",
        "        addarr.append(xtrain.iloc[i,:])\n",
        "addarr=pd.DataFrame(addarr,columns=[\"Survived\",\"Pclass\",\"Sex\",\"Age\",\"SibSp\",\"Parch\",\"Fare\"])\n",
        "addarr.index=pd.RangeIndex(start=0,stop=len(addarr),step=1)\n",
        "for i in range(c):\n",
        "  xtrain=xtrain.append(addarr.iloc[i%len(addarr),:])\n",
        "x.head()"
      ],
      "execution_count": 47,
      "outputs": [
        {
          "output_type": "execute_result",
          "data": {
            "text/html": [
              "<div>\n",
              "<style scoped>\n",
              "    .dataframe tbody tr th:only-of-type {\n",
              "        vertical-align: middle;\n",
              "    }\n",
              "\n",
              "    .dataframe tbody tr th {\n",
              "        vertical-align: top;\n",
              "    }\n",
              "\n",
              "    .dataframe thead th {\n",
              "        text-align: right;\n",
              "    }\n",
              "</style>\n",
              "<table border=\"1\" class=\"dataframe\">\n",
              "  <thead>\n",
              "    <tr style=\"text-align: right;\">\n",
              "      <th></th>\n",
              "      <th>Survived</th>\n",
              "      <th>Pclass</th>\n",
              "      <th>Sex</th>\n",
              "      <th>Age</th>\n",
              "      <th>SibSp</th>\n",
              "      <th>Parch</th>\n",
              "      <th>Fare</th>\n",
              "    </tr>\n",
              "  </thead>\n",
              "  <tbody>\n",
              "    <tr>\n",
              "      <th>0</th>\n",
              "      <td>0</td>\n",
              "      <td>3</td>\n",
              "      <td>male</td>\n",
              "      <td>22.0</td>\n",
              "      <td>1</td>\n",
              "      <td>0</td>\n",
              "      <td>7.2500</td>\n",
              "    </tr>\n",
              "    <tr>\n",
              "      <th>1</th>\n",
              "      <td>1</td>\n",
              "      <td>1</td>\n",
              "      <td>female</td>\n",
              "      <td>38.0</td>\n",
              "      <td>1</td>\n",
              "      <td>0</td>\n",
              "      <td>71.2833</td>\n",
              "    </tr>\n",
              "    <tr>\n",
              "      <th>2</th>\n",
              "      <td>1</td>\n",
              "      <td>3</td>\n",
              "      <td>female</td>\n",
              "      <td>26.0</td>\n",
              "      <td>0</td>\n",
              "      <td>0</td>\n",
              "      <td>7.9250</td>\n",
              "    </tr>\n",
              "    <tr>\n",
              "      <th>3</th>\n",
              "      <td>1</td>\n",
              "      <td>1</td>\n",
              "      <td>female</td>\n",
              "      <td>35.0</td>\n",
              "      <td>1</td>\n",
              "      <td>0</td>\n",
              "      <td>53.1000</td>\n",
              "    </tr>\n",
              "    <tr>\n",
              "      <th>4</th>\n",
              "      <td>0</td>\n",
              "      <td>3</td>\n",
              "      <td>male</td>\n",
              "      <td>35.0</td>\n",
              "      <td>0</td>\n",
              "      <td>0</td>\n",
              "      <td>8.0500</td>\n",
              "    </tr>\n",
              "  </tbody>\n",
              "</table>\n",
              "</div>"
            ],
            "text/plain": [
              "   Survived  Pclass     Sex   Age  SibSp  Parch     Fare\n",
              "0         0       3    male  22.0      1      0   7.2500\n",
              "1         1       1  female  38.0      1      0  71.2833\n",
              "2         1       3  female  26.0      0      0   7.9250\n",
              "3         1       1  female  35.0      1      0  53.1000\n",
              "4         0       3    male  35.0      0      0   8.0500"
            ]
          },
          "metadata": {
            "tags": []
          },
          "execution_count": 47
        }
      ]
    },
    {
      "cell_type": "code",
      "metadata": {
        "id": "TXYLoExjOXOT",
        "colab_type": "code",
        "colab": {
          "base_uri": "https://localhost:8080/",
          "height": 264
        },
        "outputId": "43abe8c4-3d36-4e49-bdab-3d2d52fb8673"
      },
      "source": [
        "one=xtrain.loc[xtrain[\"Survived\"]==1][\"Survived\"].sum()\n",
        "two=len(xtrain)-one\n",
        "plt.pie([one,two],labels=[\"survived\",\"not so lucky\"],autopct=\"%0.0f%%\")\n",
        "plt.title(\"Pclass distribution\")\n",
        "plt.show()"
      ],
      "execution_count": 48,
      "outputs": [
        {
          "output_type": "display_data",
          "data": {
            "image/png": "[encoded data removed]",
            "text/plain": [
              "<Figure size 432x288 with 1 Axes>"
            ]
          },
          "metadata": {
            "tags": []
          }
        }
      ]
    },
    {
      "cell_type": "code",
      "metadata": {
        "id": "ll2MRklAGsfA",
        "colab_type": "code",
        "colab": {
          "base_uri": "https://localhost:8080/",
          "height": 185
        },
        "outputId": "36ca7a9c-0428-47a2-afe4-f934eaa97dda"
      },
      "source": [
        "pd.set_option('mode.chained_assignment', None)\n",
        "sextoint=OneHotEncoder(sparse=False)\n",
        "xtrain['Sex']=sextoint.fit_transform(xtrain['Sex'].values.reshape(-1,1))\n",
        "xtest['Sex']=sextoint.fit_transform(xtest['Sex'].values.reshape(-1,1))\n",
        "ytrain=xtrain[\"Survived\"]\n",
        "xtrain=xtrain.drop(columns=\"Survived\")\n",
        "ytest=xtest[\"Survived\"]\n",
        "xtest=xtest.drop(columns=\"Survived\")\n",
        "ssc=StandardScaler()\n",
        "\n",
        "a=ssc.fit_transform(xtrain)\n",
        "b=ssc.fit_transform(xtest)\n",
        "c=np.array(ytrain)\n",
        "d=np.array(ytest)\n",
        "xtrain=b\n",
        "xtest=a\n",
        "ytrain=d\n",
        "ytest=c\n",
        "xtrain[:5]"
      ],
      "execution_count": 49,
      "outputs": [
        {
          "output_type": "execute_result",
          "data": {
            "text/plain": [
              "array([[-0.38348805, -0.73793933,  0.0557495 , -0.47251141, -0.46898465,\n",
              "        -0.40788625],\n",
              "       [-1.58598324,  1.35512495,  1.32313124,  0.38710118, -0.46898465,\n",
              "         0.50498202],\n",
              "       [ 0.81900714, -0.73793933,  0.19656969,  0.38710118, -0.46898465,\n",
              "        -0.34117664],\n",
              "       [-0.38348805,  1.35512495, -0.29630098, -0.47251141,  0.82591102,\n",
              "        -0.10359682],\n",
              "       [ 0.81900714, -0.73793933,  1.53436153, -0.47251141, -0.46898465,\n",
              "        -0.53077236]])"
            ]
          },
          "metadata": {
            "tags": []
          },
          "execution_count": 49
        }
      ]
    },
    {
      "cell_type": "code",
      "metadata": {
        "id": "RKBEj8kdGsuK",
        "colab_type": "code",
        "colab": {
          "base_uri": "https://localhost:8080/",
          "height": 34
        },
        "outputId": "557f6658-ee18-475e-bc0e-823e1e43c686"
      },
      "source": [
        "layer1=layerslib.Sigmoid(6,3,True)\n",
        "layer2=layerslib.Sigmoid(3,2,True)\n",
        "layer3=layerslib.Sigmoid(2,1,True)\n",
        "\n",
        "layerarr=[layer1,layer2,layer3]\n",
        "opt=optimizer.SGD(1,0.2,layerarr)\n",
        "model=model.Seqential(layerslib.MSE(),opt)\n",
        "curloss=layerslib.MSE()\n",
        "\n",
        "for i in range(300):\n",
        "    for j in range(len(xtrain)):\n",
        "        opt.zero_grad()\n",
        "        ourout=model.forward(xtrain[j])\n",
        "        c=curloss.loss(ourout,ytrain[j])\n",
        "        curloss.backward()\n",
        "        opt.step()\n",
        "arr=[]\n",
        "for i in range(len(xtrain)):\n",
        "    arr.append(model.forward(xtrain[i])[1])\n",
        "arr=np.array(arr).round()\n",
        "print(accuracy_score(arr,ytrain))"
      ],
      "execution_count": 50,
      "outputs": [
        {
          "output_type": "stream",
          "text": [
            "0.8349358974358975\n"
          ],
          "name": "stdout"
        }
      ]
    }
  ]
}